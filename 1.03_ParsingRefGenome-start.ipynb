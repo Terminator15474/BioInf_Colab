{
  "cells": [
    {
      "cell_type": "code",
      "execution_count": 1,
      "metadata": {
        "id": "g20lDeRJnDS3",
        "outputId": "a1a4d7bc-6b93-4b3b-8de3-5789ad68be26",
        "colab": {
          "base_uri": "https://localhost:8080/"
        }
      },
      "outputs": [
        {
          "output_type": "stream",
          "name": "stdout",
          "text": [
            "--2024-11-11 12:36:14--  http://d28rh4a8wq0iu5.cloudfront.net/ads1/data/lambda_virus.fa\n",
            "Resolving d28rh4a8wq0iu5.cloudfront.net (d28rh4a8wq0iu5.cloudfront.net)... 3.163.78.194, 3.163.78.34, 3.163.78.78, ...\n",
            "Connecting to d28rh4a8wq0iu5.cloudfront.net (d28rh4a8wq0iu5.cloudfront.net)|3.163.78.194|:80... connected.\n",
            "HTTP request sent, awaiting response... 200 OK\n",
            "Length: 49270 (48K) [application/octet-stream]\n",
            "Saving to: ‘lambda_virus.fa’\n",
            "\n",
            "\rlambda_virus.fa       0%[                    ]       0  --.-KB/s               \rlambda_virus.fa     100%[===================>]  48.12K  --.-KB/s    in 0.01s   \n",
            "\n",
            "2024-11-11 12:36:14 (3.84 MB/s) - ‘lambda_virus.fa’ saved [49270/49270]\n",
            "\n"
          ]
        }
      ],
      "source": [
        "# Following line downloads FASTA file containing the lambda phage reference genome\n",
        "# On Unix you could use wget to download the fasta file (just uncomment the following line)\n",
        "!wget http://d28rh4a8wq0iu5.cloudfront.net/ads1/data/lambda_virus.fa\n",
        "\n",
        "# On Windows you have to download the file manually into your working directory"
      ]
    },
    {
      "cell_type": "code",
      "execution_count": 14,
      "metadata": {
        "id": "cZPOyPstnDS4",
        "outputId": "f3a0419c-e865-4094-83e9-1225290035d1",
        "colab": {
          "base_uri": "https://localhost:8080/",
          "height": 55
        }
      },
      "outputs": [
        {
          "output_type": "execute_result",
          "data": {
            "text/plain": [
              "'GGGCGGCGACCTCGCGGGTTTTCGCTATTTATGAAAATTTTCCGGTTTAAGGCGTTTCCGTTCTTCTTCGTCATAACTTAATGTTTTTATTTAAAATACC'"
            ],
            "application/vnd.google.colaboratory.intrinsic+json": {
              "type": "string"
            }
          },
          "metadata": {},
          "execution_count": 14
        }
      ],
      "source": [
        "# Write a function to read the Genome data from the file. Do not forget to ignore the header line\n",
        "def readGenome(filename):\n",
        "    genome = ''\n",
        "    # your code here\n",
        "    with open(filename, \"r\") as f:\n",
        "      genome = \"\".join(map(lambda x: x.replace(\"\\n\", \"\"), f.readlines()[1:]))\n",
        "    return genome\n",
        "genome = readGenome('lambda_virus.fa')\n",
        "genome[:100]"
      ]
    },
    {
      "cell_type": "code",
      "source": [],
      "metadata": {
        "id": "Gwvj-ssXPHar"
      },
      "execution_count": null,
      "outputs": []
    },
    {
      "cell_type": "code",
      "execution_count": 5,
      "metadata": {
        "id": "-FCpsWoznDS5",
        "outputId": "3bbfddc5-be21-45ec-a8f3-34d78641fbe2",
        "colab": {
          "base_uri": "https://localhost:8080/"
        }
      },
      "outputs": [
        {
          "output_type": "stream",
          "name": "stdout",
          "text": [
            "Counter({'G': 12820, 'A': 12334, 'T': 11986, 'C': 11362, '\\n': 694})\n"
          ]
        }
      ],
      "source": [
        "# Count the number of occurences of each base in the variable genome\n",
        "import collections\n",
        "counts = collections.Counter(genome)\n",
        "print(counts)"
      ]
    },
    {
      "cell_type": "code",
      "execution_count": null,
      "metadata": {
        "id": "Q0aUQP4OnDS5",
        "outputId": "ca9c3ec9-ebf4-40bf-b732-dbeb009cf6e2"
      },
      "outputs": [
        {
          "data": {
            "text/plain": [
              "Counter({'G': 12820, 'A': 12334, 'T': 11986, 'C': 11362})"
            ]
          },
          "execution_count": 4,
          "metadata": {},
          "output_type": "execute_result"
        }
      ],
      "source": [
        "# You could also use the Counter class\n",
        "# see documentation: https://docs.python.org/2/library/collections.html#collections.Counter\n",
        "import collections\n",
        "collections.Counter(genome)"
      ]
    },
    {
      "cell_type": "code",
      "execution_count": 15,
      "metadata": {
        "collapsed": true,
        "id": "CZ1LtzFgnDS5",
        "colab": {
          "base_uri": "https://localhost:8080/"
        },
        "outputId": "3624ae69-7939-40b5-cebb-5b352556f75f"
      },
      "outputs": [
        {
          "output_type": "stream",
          "name": "stderr",
          "text": [
            "test_notebook (__main__.TestNotebook) ... ok\n",
            "\n",
            "----------------------------------------------------------------------\n",
            "Ran 1 test in 0.008s\n",
            "\n",
            "OK\n"
          ]
        },
        {
          "output_type": "execute_result",
          "data": {
            "text/plain": [
              "<unittest.main.TestProgram at 0x7dddceb44e20>"
            ]
          },
          "metadata": {},
          "execution_count": 15
        }
      ],
      "source": [
        "import unittest\n",
        "class TestNotebook(unittest.TestCase):\n",
        "    def test_notebook(self):\n",
        "        self.assertEqual(readGenome('lambda_virus.fa')[:100], 'GGGCGGCGACCTCGCGGGTTTTCGCTATTTATGAAAATTTTCCGGTTTAAGGCGTTTCCGTTCTTCTTCGTCATAACTTAATGTTTTTATTTAAAATACC')\n",
        "        self.assertEqual(len(readGenome('lambda_virus.fa')), 48502)\n",
        "        self.assertEqual(counts['T'],11986)\n",
        "        self.assertEqual(counts['G'],12820)\n",
        "        self.assertEqual(counts['A'],12334)\n",
        "        self.assertEqual(counts['C'],11362)\n",
        "\n",
        "unittest.main(argv=[''], verbosity=2, exit=False)"
      ]
    }
  ],
  "metadata": {
    "kernelspec": {
      "display_name": "Python 3",
      "language": "python",
      "name": "python3"
    },
    "language_info": {
      "codemirror_mode": {
        "name": "ipython",
        "version": 3
      },
      "file_extension": ".py",
      "mimetype": "text/x-python",
      "name": "python",
      "nbconvert_exporter": "python",
      "pygments_lexer": "ipython3",
      "version": "3.5.4"
    },
    "colab": {
      "provenance": []
    }
  },
  "nbformat": 4,
  "nbformat_minor": 0
}