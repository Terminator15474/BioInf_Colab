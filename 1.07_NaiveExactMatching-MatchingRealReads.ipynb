{
  "cells": [
    {
      "cell_type": "markdown",
      "metadata": {
        "id": "Rmt8_zF9nVI9"
      },
      "source": [
        "# NaiveExactMatching-MatchingRealReads"
      ]
    },
    {
      "cell_type": "code",
      "execution_count": 1,
      "metadata": {
        "colab": {
          "base_uri": "https://localhost:8080/"
        },
        "id": "IqwCMig7nVI-",
        "outputId": "f390f508-7d00-4c92-ec0f-e7121a41a83c"
      },
      "outputs": [
        {
          "output_type": "stream",
          "name": "stdout",
          "text": [
            "--2024-11-18 14:12:14--  http://d28rh4a8wq0iu5.cloudfront.net/ads1/data/phix.fa\n",
            "Resolving d28rh4a8wq0iu5.cloudfront.net (d28rh4a8wq0iu5.cloudfront.net)... 13.225.141.205, 13.225.141.118, 13.225.141.46, ...\n",
            "Connecting to d28rh4a8wq0iu5.cloudfront.net (d28rh4a8wq0iu5.cloudfront.net)|13.225.141.205|:80... connected.\n",
            "HTTP request sent, awaiting response... 200 OK\n",
            "Length: 5528 (5.4K) [application/octet-stream]\n",
            "Saving to: ‘phix.fa’\n",
            "\n",
            "\rphix.fa               0%[                    ]       0  --.-KB/s               \rphix.fa             100%[===================>]   5.40K  --.-KB/s    in 0s      \n",
            "\n",
            "2024-11-18 14:12:15 (481 MB/s) - ‘phix.fa’ saved [5528/5528]\n",
            "\n"
          ]
        }
      ],
      "source": [
        "!wget http://d28rh4a8wq0iu5.cloudfront.net/ads1/data/phix.fa"
      ]
    },
    {
      "cell_type": "code",
      "execution_count": 2,
      "metadata": {
        "id": "VYLML6qLnVI_"
      },
      "outputs": [],
      "source": [
        "import unittest\n",
        "import collections\n",
        "class TestMatchingArtificialReads(unittest.TestCase):\n",
        "    def test_readGenome(self):\n",
        "        self.assertEqual(len(readGenome('phix.fa')), 5386, 'length of genome string for file phix.fa is wrong! Correct length should be: 5386')\n",
        "    def test_naive(self):\n",
        "        self.assertEqual(naive('AG','AGCTTAGATAGC'), [0, 5, 9], 'Tested naive with parameters: p=\"AG\" and t=\"AGCTTAGATAGC\". Should return this list of occurences: [0, 5, 9]')\n",
        "    def test_generate_reads(self):\n",
        "        self.test_readGenome()\n",
        "        genome = readGenome('phix.fa')\n",
        "        reads = generateReads(genome, 100, 100)\n",
        "        self.assertEqual(len(reads), 100, 'Generated wrong number of reads! Should be 100 is {}'.format(len(reads)))\n",
        "        for read in reads:\n",
        "            self.assertEqual(len(read), 100, 'Read has wrong length. Should be 100 is {}'.format(len(read)))\n",
        "    def test_readFastq(self):\n",
        "        phix_reads = readFastq('ERR266411_1.first1000.fastq')\n",
        "        count = collections.Counter()\n",
        "        for read in phix_reads:\n",
        "            count.update(read)\n",
        "        self.assertEqual(count['T'], 30531, 'Count for T is wrong. Should be 30531 but is {}'.format(count['T']))\n",
        "        self.assertEqual(count['A'], 28426, 'Count for A is wrong. Should be 30531 but is {}'.format(count['A']))\n",
        "        self.assertEqual(count['C'], 21890, 'Count for C is wrong. Should be 30531 but is {}'.format(count['C']))\n",
        "        self.assertEqual(count['G'], 19147, 'Count for G is wrong. Should be 30531 but is {}'.format(count['G']))\n",
        "        self.assertEqual(count['N'], 6, 'Count for N is wrong. Should be 30531 but is {}'.format(count['N']))"
      ]
    },
    {
      "cell_type": "code",
      "execution_count": 4,
      "metadata": {
        "id": "OzYkNcBlnVJE"
      },
      "outputs": [],
      "source": [
        "def readGenome(filename):\n",
        "    \"\"\" Reads dna data from a given file\n",
        "    param: filename name of a fasta file\n",
        "    returns: dna data without the ids of the fasta file\n",
        "    rtype: string\n",
        "    \"\"\"\n",
        "    # copy from notebook 1.06\n",
        "    reads = []\n",
        "    genome = ''\n",
        "    with open(filename, 'r') as f:\n",
        "        for line in f:\n",
        "            if not line[0] == '>':\n",
        "                genome += line.rstrip()\n",
        "    return genome"
      ]
    },
    {
      "cell_type": "code",
      "execution_count": 5,
      "metadata": {
        "id": "WYT0B0hJnVJE"
      },
      "outputs": [],
      "source": [
        "phix_reads = readGenome('phix.fa')"
      ]
    },
    {
      "cell_type": "code",
      "execution_count": 6,
      "metadata": {
        "id": "CCtYDmFBnVJE"
      },
      "outputs": [],
      "source": [
        "def naive(p, t):\n",
        "    \"\"\"Implementation of a 'naive' pattern search in text t\n",
        "    param: p search-pattern\n",
        "    param: t text to search in\n",
        "    returns: list of occurences\n",
        "    \"\"\"\n",
        "    occurrences = []\n",
        "    for i in range(len(t)-len(p)):\n",
        "      match = True\n",
        "      for j in range(len(p)):\n",
        "        if t[i+j] != p[j]:\n",
        "          match = False\n",
        "          break\n",
        "      if match:\n",
        "        occurrences.append(i)\n",
        "    return occurrences"
      ]
    },
    {
      "cell_type": "code",
      "execution_count": 8,
      "metadata": {
        "id": "2Auxer67nVJF"
      },
      "outputs": [],
      "source": [
        "import random\n",
        "def generateReads(genome, numReads, readLen):\n",
        "    \"\"\"Generate reads from random positions in the given genome.\n",
        "    param: genome dna data from which reads should be generated\n",
        "    param: numReads defines how many different reads are generated\n",
        "    param: readLen defines the length of each read\n",
        "    returns: list containing the generated reads\n",
        "    \"\"\"\n",
        "    reads = []\n",
        "    for _ in range(numReads):\n",
        "        start = random.randint(0, len(genome)-readLen) - 1\n",
        "        reads.append(genome[start : start+readLen])\n",
        "\n",
        "    return reads"
      ]
    },
    {
      "cell_type": "code",
      "execution_count": 9,
      "metadata": {
        "colab": {
          "base_uri": "https://localhost:8080/"
        },
        "id": "UJ8aLr_gnVJF",
        "outputId": "d23900f9-5bbf-4884-81c5-13b462c49ba7"
      },
      "outputs": [
        {
          "output_type": "stream",
          "name": "stderr",
          "text": [
            "...\n",
            "----------------------------------------------------------------------\n",
            "Ran 3 tests in 0.011s\n",
            "\n",
            "OK\n"
          ]
        },
        {
          "output_type": "execute_result",
          "data": {
            "text/plain": [
              "<unittest.runner.TextTestResult run=3 errors=0 failures=0>"
            ]
          },
          "metadata": {},
          "execution_count": 9
        }
      ],
      "source": [
        "tests = TestMatchingArtificialReads()\n",
        "suite = unittest.TestSuite()\n",
        "suite.addTest(TestMatchingArtificialReads('test_readGenome'))\n",
        "suite.addTest(TestMatchingArtificialReads('test_naive'))\n",
        "suite.addTest(TestMatchingArtificialReads('test_generate_reads'))\n",
        "unittest.TextTestRunner().run(suite)"
      ]
    },
    {
      "cell_type": "code",
      "execution_count": 11,
      "metadata": {
        "colab": {
          "base_uri": "https://localhost:8080/"
        },
        "id": "GGMLwmzcnVJG",
        "outputId": "fce98e18-f121-4139-f822-6e485ca0b801"
      },
      "outputs": [
        {
          "output_type": "stream",
          "name": "stdout",
          "text": [
            "100 / 100 reads matched the genome exactly!\n"
          ]
        }
      ],
      "source": [
        "genome = readGenome(\"phix.fa\")\n",
        "\n",
        "# Generate 100 reads of length 100\n",
        "reads = generateReads(genome, 100, 100)\n",
        "\n",
        "# Count how many reads match the genome exactly\n",
        "numMatched = 0\n",
        "for r in reads:\n",
        "    matches = naive(r, genome)\n",
        "    if len(matches) > 0:\n",
        "        numMatched += 1\n",
        "print('%d / %d reads matched the genome exactly!' % (numMatched, len(reads)))"
      ]
    },
    {
      "cell_type": "code",
      "execution_count": 12,
      "metadata": {
        "colab": {
          "base_uri": "https://localhost:8080/"
        },
        "id": "BxYjnHgDnVJH",
        "outputId": "91052048-21a2-4f26-b438-863ee52931cc"
      },
      "outputs": [
        {
          "output_type": "stream",
          "name": "stdout",
          "text": [
            "--2024-11-18 14:22:28--  http://d28rh4a8wq0iu5.cloudfront.net/ads1/data/ERR266411_1.first1000.fastq\n",
            "Resolving d28rh4a8wq0iu5.cloudfront.net (d28rh4a8wq0iu5.cloudfront.net)... 13.225.141.205, 13.225.141.183, 13.225.141.118, ...\n",
            "Connecting to d28rh4a8wq0iu5.cloudfront.net (d28rh4a8wq0iu5.cloudfront.net)|13.225.141.205|:80... connected.\n",
            "HTTP request sent, awaiting response... 200 OK\n",
            "Length: 254384 (248K) [audio/mpeg]\n",
            "Saving to: ‘ERR266411_1.first1000.fastq’\n",
            "\n",
            "ERR266411_1.first10 100%[===================>] 248.42K  1.24MB/s    in 0.2s    \n",
            "\n",
            "2024-11-18 14:22:29 (1.24 MB/s) - ‘ERR266411_1.first1000.fastq’ saved [254384/254384]\n",
            "\n"
          ]
        }
      ],
      "source": [
        "# On Windows you have to manually download the file\n",
        "!wget http://d28rh4a8wq0iu5.cloudfront.net/ads1/data/ERR266411_1.first1000.fastq"
      ]
    },
    {
      "cell_type": "code",
      "execution_count": 17,
      "metadata": {
        "id": "wMp_opNEnVJH"
      },
      "outputs": [],
      "source": [
        "def readFastq(filename):\n",
        "    \"\"\" Reads a FastQ File\n",
        "    param filename: name of the fastq file\n",
        "    returns: list containing all the dna sequences from the fastq file\n",
        "    \"\"\"\n",
        "    sequences = []\n",
        "    with open(filename, \"r\") as fh:\n",
        "        lines = fh.readlines()\n",
        "        for line in lines[1:-1:4]:\n",
        "            seq = line.rstrip()\n",
        "            sequences.append(seq)\n",
        "    return sequences"
      ]
    },
    {
      "cell_type": "code",
      "execution_count": 18,
      "metadata": {
        "colab": {
          "base_uri": "https://localhost:8080/"
        },
        "id": "_JBXaUCNnVJI",
        "outputId": "5a8f8287-4428-49cf-dd09-8ab8b14b5fa9"
      },
      "outputs": [
        {
          "output_type": "stream",
          "name": "stderr",
          "text": [
            ".\n",
            "----------------------------------------------------------------------\n",
            "Ran 1 test in 0.013s\n",
            "\n",
            "OK\n"
          ]
        },
        {
          "output_type": "execute_result",
          "data": {
            "text/plain": [
              "<unittest.runner.TextTestResult run=1 errors=0 failures=0>"
            ]
          },
          "metadata": {},
          "execution_count": 18
        }
      ],
      "source": [
        "tests = TestMatchingArtificialReads()\n",
        "suite = unittest.TestSuite()\n",
        "suite.addTest(TestMatchingArtificialReads('test_readFastq'))\n",
        "unittest.TextTestRunner().run(suite)"
      ]
    },
    {
      "cell_type": "code",
      "execution_count": 19,
      "metadata": {
        "colab": {
          "base_uri": "https://localhost:8080/"
        },
        "id": "XCo4FQpOnVJI",
        "outputId": "7274b6f4-3c74-470e-87da-82da93e18413"
      },
      "outputs": [
        {
          "output_type": "stream",
          "name": "stdout",
          "text": [
            "5386 / 5386 reads matched the genome exactly!\n"
          ]
        }
      ],
      "source": [
        "numMatched = 0\n",
        "n = 0\n",
        "for r in phix_reads:\n",
        "    matches = naive(r, genome)\n",
        "    n += 1\n",
        "    if len(matches) > 0:\n",
        "        numMatched += 1\n",
        "print('%d / %d reads matched the genome exactly!' % (numMatched, n))"
      ]
    },
    {
      "cell_type": "code",
      "execution_count": 20,
      "metadata": {
        "colab": {
          "base_uri": "https://localhost:8080/"
        },
        "id": "_JfM3OyinVJI",
        "outputId": "718768f9-5091-437c-ae37-1483ac6de3d1"
      },
      "outputs": [
        {
          "output_type": "stream",
          "name": "stdout",
          "text": [
            "5386 / 5386 reads matched the genome exactly!\n"
          ]
        }
      ],
      "source": [
        "# Now let's try matching just the first 30 bases of each read\n",
        "numMatched = 0\n",
        "n = 0\n",
        "for r in phix_reads:\n",
        "    r = r[:30]  # just taking the first 30 bases\n",
        "    matches = naive(r, genome)\n",
        "    n += 1\n",
        "    if len(matches) > 0:\n",
        "        numMatched += 1\n",
        "print('%d / %d reads matched the genome exactly!' % (numMatched, n))"
      ]
    },
    {
      "cell_type": "code",
      "execution_count": 21,
      "metadata": {
        "id": "3JN4Ot8AnVJJ"
      },
      "outputs": [],
      "source": [
        "def reverseComplement(s):\n",
        "    complement = {'A': 'T', 'C': 'G', 'G': 'C', 'T': 'A', 'N': 'N'}\n",
        "    t = ''\n",
        "    for base in s:\n",
        "        t = complement[base] + t\n",
        "    return t"
      ]
    },
    {
      "cell_type": "code",
      "execution_count": 22,
      "metadata": {
        "colab": {
          "base_uri": "https://localhost:8080/"
        },
        "id": "ff2sq-q0nVJJ",
        "outputId": "9d50a903-5d51-47ee-90a6-a71711e004cc"
      },
      "outputs": [
        {
          "output_type": "stream",
          "name": "stdout",
          "text": [
            "5386 / 5386 reads matched the genome exactly!\n"
          ]
        }
      ],
      "source": [
        "numMatched = 0\n",
        "n = 0\n",
        "for r in phix_reads:\n",
        "    r = r[:30]  # just taking the first 30 bases\n",
        "    matches = naive(r, genome)\n",
        "    matches.extend(naive(reverseComplement(r), genome))\n",
        "    n += 1\n",
        "    if len(matches) > 0:\n",
        "        numMatched += 1\n",
        "print('%d / %d reads matched the genome exactly!' % (numMatched, n))"
      ]
    },
    {
      "cell_type": "markdown",
      "metadata": {
        "id": "CPHYqU9qnVJJ"
      },
      "source": [
        "### Compare the different results on the matches!\n",
        "Think of the different numbers of matches and why these numbers arise. Make some notes!"
      ]
    }
  ],
  "metadata": {
    "kernelspec": {
      "display_name": "PyCharm (ai-tracer-dash)",
      "language": "python",
      "name": "pycharm-898b6f66"
    },
    "language_info": {
      "codemirror_mode": {
        "name": "ipython",
        "version": 3
      },
      "file_extension": ".py",
      "mimetype": "text/x-python",
      "name": "python",
      "nbconvert_exporter": "python",
      "pygments_lexer": "ipython3",
      "version": "3.7.7"
    },
    "toc": {
      "base_numbering": 1,
      "nav_menu": {},
      "number_sections": true,
      "sideBar": true,
      "skip_h1_title": false,
      "title_cell": "Table of Contents",
      "title_sidebar": "Contents",
      "toc_cell": false,
      "toc_position": {},
      "toc_section_display": true,
      "toc_window_display": false
    },
    "varInspector": {
      "cols": {
        "lenName": 16,
        "lenType": 16,
        "lenVar": 40
      },
      "kernels_config": {
        "python": {
          "delete_cmd_postfix": "",
          "delete_cmd_prefix": "del ",
          "library": "var_list.py",
          "varRefreshCmd": "print(var_dic_list())"
        },
        "r": {
          "delete_cmd_postfix": ") ",
          "delete_cmd_prefix": "rm(",
          "library": "var_list.r",
          "varRefreshCmd": "cat(var_dic_list()) "
        }
      },
      "types_to_exclude": [
        "module",
        "function",
        "builtin_function_or_method",
        "instance",
        "_Feature"
      ],
      "window_display": true
    },
    "colab": {
      "provenance": []
    }
  },
  "nbformat": 4,
  "nbformat_minor": 0
}