{
  "cells": [
    {
      "cell_type": "markdown",
      "metadata": {
        "id": "Pa7fAtpG55Xo"
      },
      "source": [
        "# Substring Index\n",
        "We want to build an Index with Bisect library"
      ]
    },
    {
      "cell_type": "code",
      "execution_count": 1,
      "metadata": {
        "collapsed": true,
        "id": "vbiIgrX255Xp"
      },
      "outputs": [],
      "source": [
        "import bisect\n",
        "import sys"
      ]
    },
    {
      "cell_type": "code",
      "execution_count": 43,
      "metadata": {
        "collapsed": true,
        "id": "3pISqLC155Xq"
      },
      "outputs": [],
      "source": [
        "'''Index Class'''\n",
        "class Index(object):\n",
        "    def __init__(self, t, k):\n",
        "        ''' Constructor: Create index from all substrings of size 'k'\n",
        "        param t: Text on which the index will be created\n",
        "        param k: length of the substring index'''\n",
        "        # class properties\n",
        "        self.k = k\n",
        "        self.index = []\n",
        "        # build k-mer index and append substring to index list\n",
        "        for i in range(0, len(t) - k + 1):\n",
        "            self.index.append(t[i:i+k])\n",
        "        self.index = list(dict.fromkeys(self.index))\n",
        "        # alphabetize by k-mer for using bisect\n",
        "        self.index.sort()\n",
        "\n",
        "    def query(self, p):\n",
        "        ''' Return index hits for first k-mer of P\n",
        "        param p: search pattern\n",
        "        returns: 1st index hit for p in index'''\n",
        "        # query with first k-mer of pattern p\n",
        "        # select kmer of pattern p\n",
        "        kmer = p[:self.k]\n",
        "        # do binary search in index\n",
        "        i = bisect.bisect_left(self.index, kmer)\n",
        "\n",
        "        hits = []\n",
        "        if i != len(self.index) and self.index[i] == kmer:\n",
        "            # if found, find all occurences in the text\n",
        "            for j in range(len(t) - self.k + 1):\n",
        "                if t[j:j + self.k] == kmer:\n",
        "                    hits.append(j)\n",
        "        return hits\n"
      ]
    },
    {
      "cell_type": "code",
      "execution_count": 48,
      "metadata": {
        "collapsed": true,
        "id": "jSp-DF2255Xr"
      },
      "outputs": [],
      "source": [
        "def queryIndex(p, t, index):\n",
        "    \"\"\"Queries the index for pattern p in text t, using the index-object\"\"\"\n",
        "    k = index.k\n",
        "    offsets = []\n",
        "    for i in index.query(p):\n",
        "        if t[i:i+len(p)] == p:\n",
        "            offsets.append(i)\n",
        "\n",
        "    return offsets"
      ]
    },
    {
      "cell_type": "code",
      "execution_count": 14,
      "metadata": {
        "collapsed": true,
        "id": "lBVhLydf55Xs"
      },
      "outputs": [],
      "source": [
        "t = 'ACTTGGAGATCTTTGAGGCTAGGTATTCGGGATCGAAGCTCATTTCGGGGATCGATTACGATATGGTGGGTATTCGGGA'\n",
        "p = 'GGTATTCGGGA'"
      ]
    },
    {
      "cell_type": "code",
      "execution_count": 50,
      "metadata": {
        "colab": {
          "base_uri": "https://localhost:8080/"
        },
        "id": "UhYL-TN155Xs",
        "outputId": "d10d8ceb-b53c-434a-b216-1db69da17ac2"
      },
      "outputs": [
        {
          "output_type": "stream",
          "name": "stdout",
          "text": [
            "[21, 68]\n"
          ]
        }
      ],
      "source": [
        "index = Index(t, 4)\n",
        "print(queryIndex(p, t, index)) # 21 68"
      ]
    },
    {
      "cell_type": "markdown",
      "metadata": {
        "id": "38N2MCdI55Xt"
      },
      "source": [
        "## Unit Tests"
      ]
    },
    {
      "cell_type": "code",
      "execution_count": 45,
      "metadata": {
        "collapsed": true,
        "id": "RK1-MQ8r55Xt"
      },
      "outputs": [],
      "source": [
        "import unittest"
      ]
    },
    {
      "cell_type": "code",
      "execution_count": 51,
      "metadata": {
        "collapsed": true,
        "id": "9KfmPTnf55Xu"
      },
      "outputs": [],
      "source": [
        "class MyTest(unittest.TestCase):\n",
        "    def setUp(self):\n",
        "        t = 'ACTTGGAGATCTTTGAGGCTAGGTATTCGGGATCGAAGCTCATTTCGGGGATCGATTACGATATGGTGGGTATTCGGGA'\n",
        "        p = 'GGTATTCGGGA'\n",
        "\n",
        "    def testQueryIndex(self):\n",
        "        self.assertEqual([21, 68], queryIndex(p, t, index))"
      ]
    },
    {
      "cell_type": "code",
      "execution_count": 52,
      "metadata": {
        "colab": {
          "base_uri": "https://localhost:8080/"
        },
        "id": "pNHIr6ci55Xv",
        "outputId": "b3dd331e-b454-4c5d-8839-ae2a032918af"
      },
      "outputs": [
        {
          "output_type": "stream",
          "name": "stderr",
          "text": [
            ".\n",
            "----------------------------------------------------------------------\n",
            "Ran 1 test in 0.003s\n",
            "\n",
            "OK\n"
          ]
        },
        {
          "output_type": "execute_result",
          "data": {
            "text/plain": [
              "<unittest.runner.TextTestResult run=1 errors=0 failures=0>"
            ]
          },
          "metadata": {},
          "execution_count": 52
        }
      ],
      "source": [
        "suite = unittest.TestLoader().loadTestsFromTestCase( MyTest )\n",
        "unittest.TextTestRunner(verbosity=1,stream=sys.stderr).run( suite )"
      ]
    }
  ],
  "metadata": {
    "anaconda-cloud": {},
    "kernelspec": {
      "display_name": "Python 3",
      "language": "python",
      "name": "python3"
    },
    "language_info": {
      "codemirror_mode": {
        "name": "ipython",
        "version": 3
      },
      "file_extension": ".py",
      "mimetype": "text/x-python",
      "name": "python",
      "nbconvert_exporter": "python",
      "pygments_lexer": "ipython3",
      "version": "3.5.4"
    },
    "colab": {
      "provenance": []
    }
  },
  "nbformat": 4,
  "nbformat_minor": 0
}