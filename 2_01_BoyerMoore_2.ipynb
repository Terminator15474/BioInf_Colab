{
  "cells": [
    {
      "cell_type": "markdown",
      "metadata": {
        "id": "view-in-github",
        "colab_type": "text"
      },
      "source": [
        "<a href=\"https://colab.research.google.com/github/Terminator15474/BioInf_Colab/blob/main/2_01_BoyerMoore_2.ipynb\" target=\"_parent\"><img src=\"https://colab.research.google.com/assets/colab-badge.svg\" alt=\"Open In Colab\"/></a>"
      ]
    },
    {
      "cell_type": "markdown",
      "metadata": {
        "id": "xKLcg2jjnqCq"
      },
      "source": [
        "# Boyer Moore\n",
        "\n",
        "The following gray box contains several functions that preprocess the pattern *P* and create the tables needed to apply the bad character and good suffix rules.  We won't discuss these, but if you are interested, see Chapter 2 of:\n",
        "\n",
        "Gusfield, Dan. Algorithms on strings, trees and sequences: computer science and computational biology. Cambridge university press, 1997."
      ]
    },
    {
      "cell_type": "code",
      "execution_count": null,
      "metadata": {
        "id": "e2q0Jy9vnqCu"
      },
      "outputs": [],
      "source": [
        "import string\n",
        "\n",
        "def z_array(s):\n",
        "    \"\"\" Use Z algorithm (Gusfield theorem 1.4.1) to preprocess s \"\"\"\n",
        "    assert len(s) > 1\n",
        "    z = [len(s)] + [0] * (len(s)-1)\n",
        "    # Initial comparison of s[1:] with prefix\n",
        "    for i in range(1, len(s)):\n",
        "        if s[i] == s[i-1]:\n",
        "            z[1] += 1\n",
        "        else:\n",
        "            break\n",
        "    r, l = 0, 0\n",
        "    if z[1] > 0:\n",
        "        r, l = z[1], 1\n",
        "    for k in range(2, len(s)):\n",
        "        assert z[k] == 0\n",
        "        if k > r:\n",
        "            # Case 1\n",
        "            for i in range(k, len(s)):\n",
        "                if s[i] == s[i-k]:\n",
        "                    z[k] += 1\n",
        "                else:\n",
        "                    break\n",
        "            r, l = k + z[k] - 1, k\n",
        "        else:\n",
        "            # Case 2\n",
        "            # Calculate length of beta\n",
        "            nbeta = r - k + 1\n",
        "            zkp = z[k - l]\n",
        "            if nbeta > zkp:\n",
        "                # Case 2a: Zkp wins\n",
        "                z[k] = zkp\n",
        "            else:\n",
        "                # Case 2b: Compare characters just past r\n",
        "                nmatch = 0\n",
        "                for i in range(r+1, len(s)):\n",
        "                    if s[i] == s[i - k]:\n",
        "                        nmatch += 1\n",
        "                    else:\n",
        "                        break\n",
        "                l, r = k, r + nmatch\n",
        "                z[k] = r - k + 1\n",
        "    return z\n",
        "\n",
        "\n",
        "def n_array(s):\n",
        "    \"\"\" Compile the N array (Gusfield theorem 2.2.2) from the Z array \"\"\"\n",
        "    return z_array(s[::-1])[::-1]\n",
        "\n",
        "\n",
        "def big_l_prime_array(p, n):\n",
        "    \"\"\" Compile L' array (Gusfield theorem 2.2.2) using p and N array.\n",
        "        L'[i] = largest index j less than n such that N[j] = |P[i:]| \"\"\"\n",
        "    lp = [0] * len(p)\n",
        "    for j in range(len(p)-1):\n",
        "        i = len(p) - n[j]\n",
        "        if i < len(p):\n",
        "            lp[i] = j + 1\n",
        "    return lp\n",
        "\n",
        "\n",
        "def big_l_array(p, lp):\n",
        "    \"\"\" Compile L array (Gusfield theorem 2.2.2) using p and L' array.\n",
        "        L[i] = largest index j less than n such that N[j] >= |P[i:]| \"\"\"\n",
        "    l = [0] * len(p)\n",
        "    l[1] = lp[1]\n",
        "    for i in range(2, len(p)):\n",
        "        l[i] = max(l[i-1], lp[i])\n",
        "    return l\n",
        "\n",
        "\n",
        "def small_l_prime_array(n):\n",
        "    \"\"\" Compile lp' array (Gusfield theorem 2.2.4) using N array. \"\"\"\n",
        "    small_lp = [0] * len(n)\n",
        "    for i in range(len(n)):\n",
        "        if n[i] == i+1:  # prefix matching a suffix\n",
        "            small_lp[len(n)-i-1] = i+1\n",
        "    for i in range(len(n)-2, -1, -1):  # \"smear\" them out to the left\n",
        "        if small_lp[i] == 0:\n",
        "            small_lp[i] = small_lp[i+1]\n",
        "    return small_lp\n",
        "\n",
        "\n",
        "def good_suffix_table(p):\n",
        "    \"\"\" Return tables needed to apply good suffix rule. \"\"\"\n",
        "    n = n_array(p)\n",
        "    lp = big_l_prime_array(p, n)\n",
        "    return lp, big_l_array(p, lp), small_l_prime_array(n)\n",
        "\n",
        "\n",
        "def good_suffix_mismatch(i, big_l_prime, small_l_prime):\n",
        "    \"\"\" Given a mismatch at offset i, and given L/L' and l' arrays,\n",
        "        return amount to shift as determined by good suffix rule. \"\"\"\n",
        "    length = len(big_l_prime)\n",
        "    assert i < length\n",
        "    if i == length - 1:\n",
        "        return 0\n",
        "    i += 1  # i points to leftmost matching position of P\n",
        "    if big_l_prime[i] > 0:\n",
        "        return length - big_l_prime[i]\n",
        "    return length - small_l_prime[i]\n",
        "\n",
        "\n",
        "def good_suffix_match(small_l_prime):\n",
        "    \"\"\" Given a full match of P to T, return amount to shift as\n",
        "        determined by good suffix rule. \"\"\"\n",
        "    return len(small_l_prime) - small_l_prime[1]\n",
        "\n",
        "\n",
        "def dense_bad_char_tab(p, amap):\n",
        "    \"\"\" Given pattern string and list with ordered alphabet characters, create\n",
        "        and return a dense bad character table.  Table is indexed by offset\n",
        "        then by character. \"\"\"\n",
        "    tab = []\n",
        "    nxt = [0] * len(amap)\n",
        "    for i in range(0, len(p)):\n",
        "        c = p[i]\n",
        "        assert c in amap\n",
        "        tab.append(nxt[:])\n",
        "        nxt[amap[c]] = i+1\n",
        "    return tab\n",
        "\n",
        "\n",
        "class BoyerMoore(object):\n",
        "    \"\"\" Encapsulates pattern and associated Boyer-Moore preprocessing. \"\"\"\n",
        "\n",
        "    def __init__(self, p, alphabet='ACGT'):\n",
        "        self.p = p\n",
        "        self.alphabet = alphabet\n",
        "        # Create map from alphabet characters to integers\n",
        "        self.amap = {}\n",
        "        for i in range(len(self.alphabet)):\n",
        "            self.amap[self.alphabet[i]] = i\n",
        "        # Make bad character rule table\n",
        "        self.bad_char = dense_bad_char_tab(p, self.amap)\n",
        "        # Create good suffix rule table\n",
        "        _, self.big_l, self.small_l_prime = good_suffix_table(p)\n",
        "\n",
        "    def bad_character_rule(self, i, c):\n",
        "        \"\"\" Return # skips given by bad character rule at offset i \"\"\"\n",
        "        assert c in self.amap\n",
        "        ci = self.amap[c]\n",
        "        assert i > (self.bad_char[i][ci]-1)\n",
        "        return i - (self.bad_char[i][ci]-1)\n",
        "\n",
        "    def good_suffix_rule(self, i):\n",
        "        \"\"\" Given a mismatch at offset i, return amount to shift\n",
        "            as determined by (weak) good suffix rule. \"\"\"\n",
        "        length = len(self.big_l)\n",
        "        assert i < length\n",
        "        if i == length - 1:\n",
        "            return 0\n",
        "        i += 1  # i points to leftmost matching position of P\n",
        "        if self.big_l[i] > 0:\n",
        "            return length - self.big_l[i]\n",
        "        return length - self.small_l_prime[i]\n",
        "\n",
        "    def match_skip(self):\n",
        "        \"\"\" Return amount to shift in case where P matches T \"\"\"\n",
        "        return len(self.small_l_prime) - self.small_l_prime[1]"
      ]
    },
    {
      "cell_type": "code",
      "execution_count": null,
      "metadata": {
        "id": "6udND7DvnqCw"
      },
      "outputs": [],
      "source": [
        "import unittest\n",
        "import collections\n",
        "class TestMatchingArtificialReads(unittest.TestCase):\n",
        "    def test_boyermoore(self):\n",
        "        t = 'GCTAGCTCTACGAGTCTA'\n",
        "        p = 'CT'\n",
        "        p_bm = BoyerMoore(p, alphabet='ACGT')\n",
        "        self.assertEqual(boyer_moore(p, p_bm, t), [1, 5, 7, 15], 'BoyerMoore Algorithm returned wrong match indices. Should be: [1, 5, 7, 15], values returned: {}'.format(boyer_moore(p, p_bm, t)))"
      ]
    },
    {
      "cell_type": "markdown",
      "metadata": {
        "id": "R1pBY9xAnqCx"
      },
      "source": [
        "## Try the Boyer Moore preprocessings\n",
        "\n",
        "__Let's make sure our rules give the expected results.__"
      ]
    },
    {
      "cell_type": "code",
      "execution_count": null,
      "metadata": {
        "colab": {
          "base_uri": "https://localhost:8080/"
        },
        "id": "fyvZzpSxnqCx",
        "outputId": "4c94d6f4-6bdb-4103-c2f2-7b41150fa751"
      },
      "outputs": [
        {
          "output_type": "execute_result",
          "data": {
            "text/plain": [
              "2"
            ]
          },
          "metadata": {},
          "execution_count": 3
        }
      ],
      "source": [
        "# GCTAGCTCTACGAGTCTA\n",
        "p = 'TCAA'\n",
        "p_bm = BoyerMoore(p, alphabet='ACGT')\n",
        "p_bm.bad_character_rule(2, 'T')"
      ]
    },
    {
      "cell_type": "code",
      "execution_count": null,
      "metadata": {
        "colab": {
          "base_uri": "https://localhost:8080/"
        },
        "id": "RhqCm45dnqCy",
        "outputId": "94bde2ba-1436-47a5-989d-494a8dad806c"
      },
      "outputs": [
        {
          "output_type": "execute_result",
          "data": {
            "text/plain": [
              "3"
            ]
          },
          "metadata": {},
          "execution_count": 4
        }
      ],
      "source": [
        "# GCTAGCTCTACGAGTCTA\n",
        "# ACTA\n",
        "p = 'ACTA'\n",
        "p_bm = BoyerMoore(p, alphabet='ACGT')\n",
        "p_bm.good_suffix_rule(0)"
      ]
    },
    {
      "cell_type": "code",
      "execution_count": null,
      "metadata": {
        "colab": {
          "base_uri": "https://localhost:8080/"
        },
        "id": "dkZZf3OhnqCz",
        "outputId": "563d4866-ba1f-4c4f-f5ab-967e0db54777"
      },
      "outputs": [
        {
          "output_type": "execute_result",
          "data": {
            "text/plain": [
              "2"
            ]
          },
          "metadata": {},
          "execution_count": 5
        }
      ],
      "source": [
        "# ACACGCTCTACGAGTCTA\n",
        "# ACAC\n",
        "p = 'ACAC'\n",
        "p_bm = BoyerMoore(p, alphabet='ACGT')\n",
        "p_bm.match_skip()"
      ]
    },
    {
      "cell_type": "markdown",
      "metadata": {
        "id": "ufBd0ibJnqC0"
      },
      "source": [
        "## Implement Boyer Moore Algorithm\n",
        "\n",
        "__With the Help of the given Preprocessing Class for calculating the look up tables, implement the Boyer Moore Algorithm__"
      ]
    },
    {
      "cell_type": "code",
      "execution_count": null,
      "metadata": {
        "collapsed": true,
        "id": "bo3SGuQtnqC0"
      },
      "outputs": [],
      "source": [
        "def boyer_moore(pattern, p_bm, text):\n",
        "    \"\"\" Do Boyer-Moore matching\n",
        "    param p: search pattern\n",
        "    param p_bm: Preprocessing object for boyer moore algorithm\n",
        "    param t: text\n",
        "    returns: list containing the occurences\n",
        "    \"\"\"\n",
        "    occurrences = []\n",
        "\n",
        "    n = len(text)\n",
        "    m = len(pattern)\n",
        "    i = 0  # Initialize text index\n",
        "\n",
        "    while i <= n - m:\n",
        "        j = m - 1  # Initialize pattern index to the end\n",
        "\n",
        "        # Compare pattern and text characters, starting from the end\n",
        "        while j >= 0 and pattern[j] == text[i + j]:\n",
        "            j -= 1\n",
        "\n",
        "        # If pattern is found (j < 0)\n",
        "        if j < 0:\n",
        "            occurrences.append(i)\n",
        "            i += p_bm.match_skip()  # Apply good suffix rule for match\n",
        "        else:\n",
        "            # Apply bad character rule and good suffix rule for mismatch\n",
        "            i += max(p_bm.bad_character_rule(j, text[i + j]),\n",
        "                     p_bm.good_suffix_rule(j))\n",
        "\n",
        "    return occurrences\n",
        "\n"
      ]
    },
    {
      "cell_type": "code",
      "execution_count": null,
      "metadata": {
        "colab": {
          "base_uri": "https://localhost:8080/"
        },
        "id": "56U6EAq-nqC1",
        "outputId": "60a1322c-97d9-4504-c9ab-83ba1bf6b367"
      },
      "outputs": [
        {
          "output_type": "stream",
          "name": "stderr",
          "text": [
            ".\n",
            "----------------------------------------------------------------------\n",
            "Ran 1 test in 0.003s\n",
            "\n",
            "OK\n"
          ]
        },
        {
          "output_type": "execute_result",
          "data": {
            "text/plain": [
              "<unittest.runner.TextTestResult run=1 errors=0 failures=0>"
            ]
          },
          "metadata": {},
          "execution_count": 98
        }
      ],
      "source": [
        "tests = TestMatchingArtificialReads()\n",
        "suite = unittest.TestSuite()\n",
        "suite.addTest(TestMatchingArtificialReads('test_boyermoore'))\n",
        "unittest.TextTestRunner().run(suite)"
      ]
    },
    {
      "cell_type": "code",
      "execution_count": null,
      "metadata": {
        "collapsed": true,
        "id": "0NT7IifAnqC1"
      },
      "outputs": [],
      "source": [
        "t = 'GCTAGCTCTACGAGTCTA'\n",
        "p = 'CT'\n",
        "p_bm = BoyerMoore(p, alphabet='ACGT')"
      ]
    },
    {
      "cell_type": "code",
      "execution_count": null,
      "metadata": {
        "colab": {
          "base_uri": "https://localhost:8080/"
        },
        "id": "NC8sWH5GnqC1",
        "outputId": "8c3b9511-2f4f-4b7d-80e3-bd97df664696"
      },
      "outputs": [
        {
          "output_type": "execute_result",
          "data": {
            "text/plain": [
              "[1, 5, 7, 15]"
            ]
          },
          "metadata": {},
          "execution_count": 97
        }
      ],
      "source": [
        "boyer_moore(p, p_bm, t)"
      ]
    }
  ],
  "metadata": {
    "anaconda-cloud": {},
    "kernelspec": {
      "display_name": "Python 3",
      "language": "python",
      "name": "python3"
    },
    "language_info": {
      "codemirror_mode": {
        "name": "ipython",
        "version": 3
      },
      "file_extension": ".py",
      "mimetype": "text/x-python",
      "name": "python",
      "nbconvert_exporter": "python",
      "pygments_lexer": "ipython3",
      "version": "3.5.4"
    },
    "colab": {
      "provenance": [],
      "include_colab_link": true
    }
  },
  "nbformat": 4,
  "nbformat_minor": 0
}