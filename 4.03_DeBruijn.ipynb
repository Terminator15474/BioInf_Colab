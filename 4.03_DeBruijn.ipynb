{
  "cells": [
    {
      "cell_type": "markdown",
      "metadata": {
        "id": "-jwhvzSkFGJo"
      },
      "source": [
        "# Build a DeBruijn Graph"
      ]
    },
    {
      "cell_type": "markdown",
      "metadata": {
        "id": "ss9TDDLeFGJr"
      },
      "source": [
        "Write a function \"de_bruijn_ize\" which gets a string and a kmer length k and returns the nodes and edges of the corresponding DeBruijn graph.\n",
        "\n",
        "Remember how to build the DeBruijn Graph:\n",
        "\n",
        "  1. For each kmer, build the left and right (k-1)mer. These are the two starting nodes of the graph.\n",
        "  2. Insert an edge between these two nodes.\n",
        "  3. Repeat for all remaining kmers."
      ]
    },
    {
      "cell_type": "code",
      "source": [
        "def chop(st, k):\n",
        "  \"\"\" Chop a string up into k mers of given length \"\"\"\n",
        "  for i in range(0, len(st)-(k-1)):\n",
        "    yield st[i:i+k]"
      ],
      "metadata": {
        "id": "Q3vnQbaGL7Fu"
      },
      "execution_count": 12,
      "outputs": []
    },
    {
      "source": [
        "def dict_to_list(input_dict):\n",
        "    output_list = []\n",
        "    for key, values in input_dict.items():\n",
        "        if isinstance(values, list):  # Check if values is a list\n",
        "            output_list.append(tuple([key] + values))  # Use tuple for immutability\n",
        "        else:  # Handle single values (if any)\n",
        "            output_list.append((key, values))\n",
        "    return output_list"
      ],
      "cell_type": "code",
      "metadata": {
        "id": "BBR-vb53Pe4U"
      },
      "execution_count": 45,
      "outputs": []
    },
    {
      "cell_type": "code",
      "execution_count": 59,
      "metadata": {
        "collapsed": true,
        "id": "QpS44ajrFGJs"
      },
      "outputs": [],
      "source": [
        "def de_bruijn_ize(st, k):\n",
        "    \"\"\" Return a list holding, for each k-mer, its left\n",
        "        k-1-mer and its right k-1-mer in a pair \"\"\"\n",
        "    # your code\n",
        "    nodes = {}\n",
        "    edges = []\n",
        "    for kmer in chop(st, k):\n",
        "      km1L, km1R = kmer[:-1], kmer[1:]\n",
        "      nodeL, nodeR = None, None\n",
        "      if km1L in nodes:\n",
        "        nodeL = nodes[km1L]\n",
        "      else:\n",
        "        nodeL = nodes[km1L] = km1L\n",
        "      if km1R in nodes:\n",
        "        nodeR = nodes[km1R]\n",
        "      else:\n",
        "        nodeR = nodes[km1R] = km1R\n",
        "      edges.append((nodeL, nodeR))\n",
        "    return list(nodes), edges"
      ]
    },
    {
      "cell_type": "code",
      "execution_count": 60,
      "metadata": {
        "collapsed": true,
        "id": "UUBwU_ZwFGJt"
      },
      "outputs": [],
      "source": [
        "nodes, edges = de_bruijn_ize(\"ACGCGTCG\", 3)"
      ]
    },
    {
      "cell_type": "code",
      "execution_count": 55,
      "metadata": {
        "id": "QWBVSewwFGJu",
        "outputId": "2e35f9fe-353d-41ee-b864-8bf49f0bf643",
        "colab": {
          "base_uri": "https://localhost:8080/"
        }
      },
      "outputs": [
        {
          "output_type": "execute_result",
          "data": {
            "text/plain": [
              "['AC', 'CG', 'GC', 'GT', 'TC']"
            ]
          },
          "metadata": {},
          "execution_count": 55
        }
      ],
      "source": [
        "nodes"
      ]
    },
    {
      "cell_type": "code",
      "execution_count": 61,
      "metadata": {
        "id": "3kK8QW_gFGJv",
        "outputId": "71b8bc6c-0fa3-4c98-b977-9fed2344ee40",
        "colab": {
          "base_uri": "https://localhost:8080/"
        }
      },
      "outputs": [
        {
          "output_type": "execute_result",
          "data": {
            "text/plain": [
              "[('AC', 'CG'),\n",
              " ('CG', 'GC'),\n",
              " ('GC', 'CG'),\n",
              " ('CG', 'GT'),\n",
              " ('GT', 'TC'),\n",
              " ('TC', 'CG')]"
            ]
          },
          "metadata": {},
          "execution_count": 61
        }
      ],
      "source": [
        "edges"
      ]
    },
    {
      "cell_type": "code",
      "execution_count": 62,
      "metadata": {
        "collapsed": true,
        "id": "vk1auyKmFGJw"
      },
      "outputs": [],
      "source": [
        "def visualize_de_bruijn(st, k):\n",
        "    \"\"\" Visualize a directed multigraph using graphviz \"\"\"\n",
        "    nodes, edges = de_bruijn_ize(st, k)\n",
        "    dot_str = 'digraph \"DeBruijn graph\" {\\n'\n",
        "    for node in nodes:\n",
        "        dot_str += '  %s [label=\"%s\"] ;\\n' % (node, node)\n",
        "    for src, dst in edges:\n",
        "        dot_str += '  %s -> %s ;\\n' % (src, dst)\n",
        "    return dot_str + '}\\n'"
      ]
    },
    {
      "cell_type": "code",
      "execution_count": 33,
      "metadata": {
        "id": "lNRBzmctFGJx",
        "outputId": "b29666de-eb02-46bd-f1b5-4f64f35d7401",
        "colab": {
          "base_uri": "https://localhost:8080/"
        }
      },
      "outputs": [
        {
          "output_type": "stream",
          "name": "stdout",
          "text": [
            "Requirement already satisfied: graphviz in /usr/local/lib/python3.11/dist-packages (0.20.3)\n",
            "Collecting git+https://github.com/cjdrake/gvmagic\n",
            "  Cloning https://github.com/cjdrake/gvmagic to /tmp/pip-req-build-budg_cyl\n",
            "  Running command git clone --filter=blob:none --quiet https://github.com/cjdrake/gvmagic /tmp/pip-req-build-budg_cyl\n",
            "  Resolved https://github.com/cjdrake/gvmagic to commit 42c15887dbe2fb57f1e3658aeb209c5a764cb206\n",
            "  Preparing metadata (setup.py) ... \u001b[?25l\u001b[?25hdone\n",
            "Building wheels for collected packages: gvmagic\n",
            "  Building wheel for gvmagic (setup.py) ... \u001b[?25l\u001b[?25hdone\n",
            "  Created wheel for gvmagic: filename=gvmagic-0.5-py3-none-any.whl size=10461 sha256=ad06800ea8e446d3a81ab13018cde5f272e747ceef76d385afdc2d8b877d2141\n",
            "  Stored in directory: /tmp/pip-ephem-wheel-cache-jgiikr2b/wheels/31/6d/92/fbd625dd6bfaeb128d19d8637dedb3702165e78776910c53a1\n",
            "Successfully built gvmagic\n",
            "Installing collected packages: gvmagic\n",
            "Successfully installed gvmagic-0.5\n"
          ]
        }
      ],
      "source": [
        "# might have to install gvmagic this first:\n",
        "!pip install graphviz\n",
        "!pip install git+https://github.com/cjdrake/gvmagic"
      ]
    },
    {
      "cell_type": "code",
      "execution_count": 34,
      "metadata": {
        "id": "zRUsYNzxFGJy"
      },
      "outputs": [],
      "source": [
        "%load_ext gvmagic"
      ]
    },
    {
      "cell_type": "code",
      "execution_count": 63,
      "metadata": {
        "id": "EAHg1mYdFGJ0",
        "outputId": "b3a2f195-398f-4d04-8208-7b3146c3c986",
        "colab": {
          "base_uri": "https://localhost:8080/",
          "height": 368
        }
      },
      "outputs": [
        {
          "output_type": "display_data",
          "data": {
            "text/plain": [
              "<IPython.core.display.SVG object>"
            ],
            "image/svg+xml": "<svg xmlns=\"http://www.w3.org/2000/svg\" xmlns:xlink=\"http://www.w3.org/1999/xlink\" width=\"161pt\" height=\"260pt\" viewBox=\"0.00 0.00 161.00 260.00\">\n<g id=\"graph0\" class=\"graph\" transform=\"scale(1 1) rotate(0) translate(4 256)\">\n<title>DeBruijn graph</title>\n<polygon fill=\"white\" stroke=\"transparent\" points=\"-4,4 -4,-256 157,-256 157,4 -4,4\"/>\n<!-- AC -->\n<g id=\"node1\" class=\"node\">\n<title>AC</title>\n<ellipse fill=\"none\" stroke=\"black\" cx=\"63\" cy=\"-234\" rx=\"27\" ry=\"18\"/>\n<text text-anchor=\"middle\" x=\"63\" y=\"-230.3\" font-family=\"Times,serif\" font-size=\"14.00\">AC</text>\n</g>\n<!-- CG -->\n<g id=\"node2\" class=\"node\">\n<title>CG</title>\n<ellipse fill=\"none\" stroke=\"black\" cx=\"63\" cy=\"-162\" rx=\"27\" ry=\"18\"/>\n<text text-anchor=\"middle\" x=\"63\" y=\"-158.3\" font-family=\"Times,serif\" font-size=\"14.00\">CG</text>\n</g>\n<!-- AC&#45;&gt;CG -->\n<g id=\"edge1\" class=\"edge\">\n<title>AC-&gt;CG</title>\n<path fill=\"none\" stroke=\"black\" d=\"M63,-215.7C63,-207.98 63,-198.71 63,-190.11\"/>\n<polygon fill=\"black\" stroke=\"black\" points=\"66.5,-190.1 63,-180.1 59.5,-190.1 66.5,-190.1\"/>\n</g>\n<!-- GC -->\n<g id=\"node3\" class=\"node\">\n<title>GC</title>\n<ellipse fill=\"none\" stroke=\"black\" cx=\"27\" cy=\"-90\" rx=\"27\" ry=\"18\"/>\n<text text-anchor=\"middle\" x=\"27\" y=\"-86.3\" font-family=\"Times,serif\" font-size=\"14.00\">GC</text>\n</g>\n<!-- CG&#45;&gt;GC -->\n<g id=\"edge2\" class=\"edge\">\n<title>CG-&gt;GC</title>\n<path fill=\"none\" stroke=\"black\" d=\"M49.73,-146.15C44.38,-137.79 38.57,-127.09 33.99,-117.34\"/>\n<polygon fill=\"black\" stroke=\"black\" points=\"37.12,-115.77 29.88,-108.04 30.71,-118.6 37.12,-115.77\"/>\n</g>\n<!-- GT -->\n<g id=\"node4\" class=\"node\">\n<title>GT</title>\n<ellipse fill=\"none\" stroke=\"black\" cx=\"99\" cy=\"-90\" rx=\"27\" ry=\"18\"/>\n<text text-anchor=\"middle\" x=\"99\" y=\"-86.3\" font-family=\"Times,serif\" font-size=\"14.00\">GT</text>\n</g>\n<!-- CG&#45;&gt;GT -->\n<g id=\"edge4\" class=\"edge\">\n<title>CG-&gt;GT</title>\n<path fill=\"none\" stroke=\"black\" d=\"M71.35,-144.76C75.71,-136.28 81.15,-125.71 86.04,-116.2\"/>\n<polygon fill=\"black\" stroke=\"black\" points=\"89.23,-117.64 90.7,-107.15 83.01,-114.44 89.23,-117.64\"/>\n</g>\n<!-- GC&#45;&gt;CG -->\n<g id=\"edge3\" class=\"edge\">\n<title>GC-&gt;CG</title>\n<path fill=\"none\" stroke=\"black\" d=\"M40.3,-105.89C45.66,-114.28 51.48,-125 56.06,-134.75\"/>\n<polygon fill=\"black\" stroke=\"black\" points=\"52.93,-136.32 60.16,-144.05 59.33,-133.49 52.93,-136.32\"/>\n</g>\n<!-- TC -->\n<g id=\"node5\" class=\"node\">\n<title>TC</title>\n<ellipse fill=\"none\" stroke=\"black\" cx=\"126\" cy=\"-18\" rx=\"27\" ry=\"18\"/>\n<text text-anchor=\"middle\" x=\"126\" y=\"-14.3\" font-family=\"Times,serif\" font-size=\"14.00\">TC</text>\n</g>\n<!-- GT&#45;&gt;TC -->\n<g id=\"edge5\" class=\"edge\">\n<title>GT-&gt;TC</title>\n<path fill=\"none\" stroke=\"black\" d=\"M105.4,-72.41C108.51,-64.34 112.33,-54.43 115.83,-45.35\"/>\n<polygon fill=\"black\" stroke=\"black\" points=\"119.13,-46.55 119.46,-35.96 112.6,-44.03 119.13,-46.55\"/>\n</g>\n<!-- TC&#45;&gt;CG -->\n<g id=\"edge6\" class=\"edge\">\n<title>TC-&gt;CG</title>\n<path fill=\"none\" stroke=\"black\" d=\"M132.87,-35.74C139.39,-54.4 146.63,-84.99 135,-108 126.42,-124.98 109.55,-137.85 94.3,-146.65\"/>\n<polygon fill=\"black\" stroke=\"black\" points=\"92.24,-143.78 85.1,-151.61 95.56,-149.94 92.24,-143.78\"/>\n</g>\n</g>\n</svg>"
          },
          "metadata": {}
        }
      ],
      "source": [
        "%dotstr visualize_de_bruijn(\"ACGCGTCG\", 3)"
      ]
    }
  ],
  "metadata": {
    "kernelspec": {
      "display_name": "Python 3",
      "language": "python",
      "name": "python3"
    },
    "language_info": {
      "codemirror_mode": {
        "name": "ipython",
        "version": 3
      },
      "file_extension": ".py",
      "mimetype": "text/x-python",
      "name": "python",
      "nbconvert_exporter": "python",
      "pygments_lexer": "ipython3",
      "version": "3.6.3"
    },
    "colab": {
      "provenance": []
    }
  },
  "nbformat": 4,
  "nbformat_minor": 0
}